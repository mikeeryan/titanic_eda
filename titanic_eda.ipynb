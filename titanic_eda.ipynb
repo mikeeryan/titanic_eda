{
 "cells": [
  {
   "cell_type": "markdown",
   "metadata": {},
   "source": [
    "# EDA in Python2 on Titanic data by Michael Eryan"
   ]
  },
  {
   "cell_type": "markdown",
   "metadata": {},
   "source": [
    "# Introduction"
   ]
  },
  {
   "cell_type": "markdown",
   "metadata": {},
   "source": [
    "### The data is a sample and incomplete, so we cannot make any generalizations or definitive conclusions. My goal is just exploration, observation and some speculation."
   ]
  },
  {
   "cell_type": "code",
   "execution_count": 1,
   "metadata": {
    "collapsed": false
   },
   "outputs": [],
   "source": [
    "#Load libraries and set working directory - import whole libraries to avoid confusion\n",
    "import os\n",
    "import numpy as np\n",
    "import pandas as pd\n",
    "import matplotlib.pyplot as plt\n",
    "import seaborn as sns\n",
    "import scipy as sp\n",
    "\n",
    "from sklearn import linear_model \n",
    "#did not work when imported just sklearn\n",
    "\n",
    "%matplotlib inline\n",
    "#to  make the plots show up"
   ]
  },
  {
   "cell_type": "code",
   "execution_count": 2,
   "metadata": {
    "collapsed": false,
    "scrolled": true
   },
   "outputs": [],
   "source": [
    "#Set the correct working directory\n",
    "os.chdir(r\"C:\\Users\\rf\\Google Drive\\Education\\R\\Rwork\")"
   ]
  },
  {
   "cell_type": "markdown",
   "metadata": {},
   "source": [
    "# Descriptive Statistics."
   ]
  },
  {
   "cell_type": "code",
   "execution_count": 3,
   "metadata": {
    "collapsed": false
   },
   "outputs": [
    {
     "name": "stdout",
     "output_type": "stream",
     "text": [
      "Hello, world! Let's review my dataset.\n",
      "\n",
      "\n",
      "My data set is titanic_data.csv\n",
      "I imported it into a <class 'pandas.core.frame.DataFrame'>\n",
      "It has 12 columns and 891 rows.\n",
      "Here are the columns and their data types in the dataset:\n",
      "PassengerId      int64\n",
      "Survived         int64\n",
      "Pclass           int64\n",
      "Name            object\n",
      "Sex             object\n",
      "Age            float64\n",
      "SibSp            int64\n",
      "Parch            int64\n",
      "Ticket          object\n",
      "Fare           float64\n",
      "Cabin           object\n",
      "Embarked        object\n",
      "dtype: object\n",
      "\n",
      "\n",
      "Here are a few rows from this data frame:\n",
      "   PassengerId  Survived  Pclass  \\\n",
      "0            1         0       3   \n",
      "1            2         1       1   \n",
      "2            3         1       3   \n",
      "3            4         1       1   \n",
      "4            5         0       3   \n",
      "\n",
      "                                                Name     Sex   Age  SibSp  \\\n",
      "0                            Braund, Mr. Owen Harris    male  22.0      1   \n",
      "1  Cumings, Mrs. John Bradley (Florence Briggs Th...  female  38.0      1   \n",
      "2                             Heikkinen, Miss. Laina  female  26.0      0   \n",
      "3       Futrelle, Mrs. Jacques Heath (Lily May Peel)  female  35.0      1   \n",
      "4                           Allen, Mr. William Henry    male  35.0      0   \n",
      "\n",
      "   Parch            Ticket     Fare Cabin Embarked  \n",
      "0      0         A/5 21171   7.2500   NaN        S  \n",
      "1      0          PC 17599  71.2833   C85        C  \n",
      "2      0  STON/O2. 3101282   7.9250   NaN        S  \n",
      "3      0            113803  53.1000  C123        S  \n",
      "4      0            373450   8.0500   NaN        S  \n",
      "\n",
      "\n",
      "Also let's create a variable Minor - if Age <18. It will have missing values when Age does.\n",
      "\n",
      "\n",
      "Also add dummies for gender which will be useful later.\n"
     ]
    }
   ],
   "source": [
    "#Read the data and review the basic descriptive information\n",
    "inputdata='titanic_data.csv'\n",
    "t=pd.read_csv(inputdata) #load data into a pandas dataframe\n",
    "# Automatically produced summary of the data set\n",
    "print \"Hello, world! Let's review my dataset.\"\n",
    "print \"\\n\"\n",
    "print 'My data set is',inputdata\n",
    "print 'I imported it into a',type(t)\n",
    "print 'It has',t.shape[1],'columns and',t.shape[0],'rows.'\n",
    "print \"Here are the columns and their data types in the dataset:\"\n",
    "print t.dtypes\n",
    "print \"\\n\"\n",
    "print (\"Here are a few rows from this data frame:\")\n",
    "print t.head()\n",
    "print \"\\n\"\n",
    "print \"Also let's create a variable Minor - if Age <18. It will have missing values when Age does.\"\n",
    "#how to make it missing? multi step process but works\n",
    "t['Minor']=t['Age']\n",
    "t.loc[(t['Age'] >=0), 'Minor'] = False\n",
    "t.loc[(t['Age'] >=0) & (t['Age'] <18), 'Minor'] = True\n",
    "print \"\\n\"\n",
    "print \"Also add dummies for gender which will be useful later.\"\n",
    "sdummies = pd.get_dummies(t['Sex'])\n",
    "t = t.join(sdummies)"
   ]
  },
  {
   "cell_type": "code",
   "execution_count": 4,
   "metadata": {
    "collapsed": false
   },
   "outputs": [
    {
     "name": "stdout",
     "output_type": "stream",
     "text": [
      "Summary statistics for the whole data set\n",
      "       PassengerId    Survived      Pclass         Age       SibSp  \\\n",
      "count   891.000000  891.000000  891.000000  714.000000  891.000000   \n",
      "mean    446.000000    0.383838    2.308642   29.699118    0.523008   \n",
      "std     257.353842    0.486592    0.836071   14.526497    1.102743   \n",
      "min       1.000000    0.000000    1.000000    0.420000    0.000000   \n",
      "25%     223.500000    0.000000    2.000000   20.125000    0.000000   \n",
      "50%     446.000000    0.000000    3.000000   28.000000    0.000000   \n",
      "75%     668.500000    1.000000    3.000000   38.000000    1.000000   \n",
      "max     891.000000    1.000000    3.000000   80.000000    8.000000   \n",
      "\n",
      "            Parch        Fare      female        male  \n",
      "count  891.000000  891.000000  891.000000  891.000000  \n",
      "mean     0.381594   32.204208    0.352413    0.647587  \n",
      "std      0.806057   49.693429    0.477990    0.477990  \n",
      "min      0.000000    0.000000    0.000000    0.000000  \n",
      "25%      0.000000    7.910400    0.000000    0.000000  \n",
      "50%      0.000000   14.454200    0.000000    1.000000  \n",
      "75%      0.000000   31.000000    1.000000    1.000000  \n",
      "max      6.000000  512.329200    1.000000    1.000000  \n",
      "\n",
      "\n",
      "Survived will be my Y, Gender is the first X, Age is continuous but has missing values (I will not impute though)\n",
      "\n",
      "\n",
      "Quick means (ignoring the missing values by default)\n",
      "PassengerId    446.000000\n",
      "Survived         0.383838\n",
      "Pclass           2.308642\n",
      "Age             29.699118\n",
      "SibSp            0.523008\n",
      "Parch            0.381594\n",
      "Fare            32.204208\n",
      "female           0.352413\n",
      "male             0.647587\n",
      "dtype: float64\n",
      "\n",
      "\n",
      "Let's also look at the distribution by requesting custom percentiles.\n",
      "       PassengerId    Survived      Pclass         Age       SibSp  \\\n",
      "count   891.000000  891.000000  891.000000  714.000000  891.000000   \n",
      "mean    446.000000    0.383838    2.308642   29.699118    0.523008   \n",
      "std     257.353842    0.486592    0.836071   14.526497    1.102743   \n",
      "min       1.000000    0.000000    1.000000    0.420000    0.000000   \n",
      "1%        9.900000    0.000000    1.000000    1.000000    0.000000   \n",
      "25%     223.500000    0.000000    2.000000   20.125000    0.000000   \n",
      "50%     446.000000    0.000000    3.000000   28.000000    0.000000   \n",
      "75%     668.500000    1.000000    3.000000   38.000000    1.000000   \n",
      "99%     882.100000    1.000000    3.000000   65.870000    5.000000   \n",
      "max     891.000000    1.000000    3.000000   80.000000    8.000000   \n",
      "\n",
      "            Parch        Fare      female        male  \n",
      "count  891.000000  891.000000  891.000000  891.000000  \n",
      "mean     0.381594   32.204208    0.352413    0.647587  \n",
      "std      0.806057   49.693429    0.477990    0.477990  \n",
      "min      0.000000    0.000000    0.000000    0.000000  \n",
      "1%       0.000000    0.000000    0.000000    0.000000  \n",
      "25%      0.000000    7.910400    0.000000    0.000000  \n",
      "50%      0.000000   14.454200    0.000000    1.000000  \n",
      "75%      0.000000   31.000000    1.000000    1.000000  \n",
      "99%      4.000000  249.006220    1.000000    1.000000  \n",
      "max      6.000000  512.329200    1.000000    1.000000  \n",
      "\n",
      "\n",
      "Let's also describe the categorical variables.\n",
      "                             Name   Sex    Ticket        Cabin Embarked  Minor\n",
      "count                         891   891       891          204      889    714\n",
      "unique                        891     2       681          147        3      2\n",
      "top     Graham, Mr. George Edward  male  CA. 2343  C23 C25 C27        S  False\n",
      "freq                            1   577         7            4      644    601\n"
     ]
    }
   ],
   "source": [
    "print (\"Summary statistics for the whole data set\")\n",
    "print t.describe()\n",
    "print \"\\n\"\n",
    "print (\"Survived will be my Y, Gender is the first X, Age is continuous but has missing values (I will not impute though)\")\n",
    "print \"\\n\"\n",
    "print (\"Quick means (ignoring the missing values by default)\")\n",
    "print t.mean(axis=0)\n",
    "print \"\\n\"\n",
    "print (\"Let's also look at the distribution by requesting custom percentiles.\")\n",
    "print t.describe(percentiles=[0.01,.25, .5, .75, 0.99])\n",
    "print \"\\n\"\n",
    "print (\"Let's also describe the categorical variables.\")\n",
    "print t.describe(include=['object'])"
   ]
  },
  {
   "cell_type": "markdown",
   "metadata": {
    "collapsed": true
   },
   "source": [
    "# Univariate Plots and Analysis"
   ]
  },
  {
   "cell_type": "markdown",
   "metadata": {
    "collapsed": true
   },
   "source": [
    "### Single variable tabulations"
   ]
  },
  {
   "cell_type": "code",
   "execution_count": 5,
   "metadata": {
    "collapsed": false
   },
   "outputs": [
    {
     "name": "stdout",
     "output_type": "stream",
     "text": [
      "Count of missing Age and also same for minor\n",
      "   Survived\n",
      "0       549\n",
      "1       342\n",
      "How many rows have missing for Age?\n",
      "177\n",
      "How many rows have missing for Minor?\n",
      "177\n",
      "OK, just as expected.\n",
      "\n",
      "\n",
      "Frequency of categoricals\n",
      "        Sex\n",
      "male    577\n",
      "female  314\n",
      "   Pclass\n",
      "3     491\n",
      "1     216\n",
      "2     184\n"
     ]
    }
   ],
   "source": [
    "print (\"Count of missing Age and also same for minor\")\n",
    "survived = t.loc[:,['Survived']]\n",
    "sur_count= survived.apply(pd.value_counts).fillna(0)\n",
    "print sur_count\n",
    "age = t.loc[:,['Age']]\n",
    "print (\"How many rows have missing for Age?\")\n",
    "print age.shape[0] - age.dropna().shape[0] \n",
    "minor = t.loc[:,['Minor']]\n",
    "print (\"How many rows have missing for Minor?\")\n",
    "print minor.shape[0] - minor.dropna().shape[0] \n",
    "print (\"OK, just as expected.\")\n",
    "print \"\\n\"\n",
    "print (\"Frequency of categoricals\")\n",
    "sex = t.loc[:,['Sex']]\n",
    "sex_count = sex.apply(pd.value_counts).fillna(0)\n",
    "print sex_count\n",
    "pclass = t.loc[:,['Pclass']]\n",
    "pclass_count = pclass.apply(pd.value_counts).fillna(0)\n",
    "print pclass_count"
   ]
  },
  {
   "cell_type": "markdown",
   "metadata": {},
   "source": [
    "# Bar Charts"
   ]
  },
  {
   "cell_type": "code",
   "execution_count": 6,
   "metadata": {
    "collapsed": false
   },
   "outputs": [
    {
     "name": "stdout",
     "output_type": "stream",
     "text": [
      "Axes(0.125,0.125;0.775x0.775)\n"
     ]
    },
    {
     "data": {
      "image/png": "[encoded data removed]",
      "text/plain": [
       "<matplotlib.figure.Figure at 0xb6849e8>"
      ]
     },
     "metadata": {},
     "output_type": "display_data"
    }
   ],
   "source": [
    "print t['Survived'].plot(kind='hist',bins=2,xticks=np.arange(0, 2, 1)\n",
    "    ,title='Frequency of Survived',legend=True,color='grey')"
   ]
  },
  {
   "cell_type": "code",
   "execution_count": 7,
   "metadata": {
    "collapsed": false
   },
   "outputs": [
    {
     "name": "stdout",
     "output_type": "stream",
     "text": [
      "Axes(0.125,0.125;0.775x0.775)\n"
     ]
    },
    {
     "data": {
      "image/png": "[encoded data removed]",
      "text/plain": [
       "<matplotlib.figure.Figure at 0xb7b1240>"
      ]
     },
     "metadata": {},
     "output_type": "display_data"
    }
   ],
   "source": [
    "print t['Pclass'].plot(kind='hist',bins=3,xticks=np.arange(1, 4, 1)\n",
    "    ,title='Frequency of Pclass',legend=True,color='blue')"
   ]
  },
  {
   "cell_type": "code",
   "execution_count": 8,
   "metadata": {
    "collapsed": false
   },
   "outputs": [
    {
     "name": "stdout",
     "output_type": "stream",
     "text": [
      "Axes(0.125,0.125;0.775x0.775)\n"
     ]
    },
    {
     "data": {
      "image/png": "[encoded data removed]",
      "text/plain": [
       "<matplotlib.figure.Figure at 0xb692f98>"
      ]
     },
     "metadata": {},
     "output_type": "display_data"
    }
   ],
   "source": [
    "print sex_count.plot(kind='bar',title='Gender distribution',legend=True,color='pink')\n"
   ]
  },
  {
   "cell_type": "markdown",
   "metadata": {},
   "source": [
    "### Fancier Charts - stacked bar chart by survived and gender "
   ]
  },
  {
   "cell_type": "code",
   "execution_count": 9,
   "metadata": {
    "collapsed": false
   },
   "outputs": [
    {
     "data": {
      "text/plain": [
       "<matplotlib.axes._subplots.AxesSubplot at 0xbca1a90>"
      ]
     },
     "execution_count": 9,
     "metadata": {},
     "output_type": "execute_result"
    },
    {
     "data": {
      "image/png": "[encoded data removed]",
      "text/plain": [
       "<matplotlib.figure.Figure at 0xbe9e828>"
      ]
     },
     "metadata": {},
     "output_type": "display_data"
    }
   ],
   "source": [
    "sur_by_sex = pd.crosstab(t.Survived,t.Sex)\n",
    "sur_by_sex\n",
    "sur_by_sex.plot(kind='bar', stacked=True)"
   ]
  },
  {
   "cell_type": "markdown",
   "metadata": {},
   "source": [
    "### The normalized version as well"
   ]
  },
  {
   "cell_type": "code",
   "execution_count": 10,
   "metadata": {
    "collapsed": false
   },
   "outputs": [
    {
     "data": {
      "text/plain": [
       "<matplotlib.axes._subplots.AxesSubplot at 0xc180400>"
      ]
     },
     "execution_count": 10,
     "metadata": {},
     "output_type": "execute_result"
    },
    {
     "data": {
      "image/png": "[encoded data removed]",
      "text/plain": [
       "<matplotlib.figure.Figure at 0xc195be0>"
      ]
     },
     "metadata": {},
     "output_type": "display_data"
    }
   ],
   "source": [
    "sur_by_sex_pcts = sur_by_sex.div(sur_by_sex.sum(1).astype(float), axis=0)\n",
    "sur_by_sex_pcts.plot(kind='bar', stacked=True)"
   ]
  },
  {
   "cell_type": "markdown",
   "metadata": {},
   "source": [
    "### Histogram and Density plot of Age"
   ]
  },
  {
   "cell_type": "code",
   "execution_count": 11,
   "metadata": {
    "collapsed": false
   },
   "outputs": [
    {
     "name": "stdout",
     "output_type": "stream",
     "text": [
      "Axes(0.125,0.125;0.775x0.775)\n"
     ]
    },
    {
     "data": {
      "image/png": "[encoded data removed]",
      "text/plain": [
       "<matplotlib.figure.Figure at 0xc4274a8>"
      ]
     },
     "metadata": {},
     "output_type": "display_data"
    }
   ],
   "source": [
    "print t['Age'].hist(bins=50)"
   ]
  },
  {
   "cell_type": "markdown",
   "metadata": {},
   "source": [
    "### Histogram and Density plot on the percent scale"
   ]
  },
  {
   "cell_type": "code",
   "execution_count": 12,
   "metadata": {
    "collapsed": false
   },
   "outputs": [
    {
     "name": "stdout",
     "output_type": "stream",
     "text": [
      "(0, 70)\n"
     ]
    },
    {
     "data": {
      "image/png": "[encoded data removed]",
      "text/plain": [
       "<matplotlib.figure.Figure at 0xbe9ea20>"
      ]
     },
     "metadata": {},
     "output_type": "display_data"
    }
   ],
   "source": [
    "hist_age = t['Age'].hist(bins=50 , normed=True, color='red')\n",
    "dens_age = t['Age'].plot(kind='kde' , color='blue')\n",
    "print hist_age.set_xlim((0,70))\n"
   ]
  },
  {
   "cell_type": "markdown",
   "metadata": {},
   "source": [
    "# Bivariate Plots and Analysis"
   ]
  },
  {
   "cell_type": "markdown",
   "metadata": {},
   "source": [
    "### First, let's drill down into the data"
   ]
  },
  {
   "cell_type": "code",
   "execution_count": 13,
   "metadata": {
    "collapsed": false
   },
   "outputs": [
    {
     "name": "stdout",
     "output_type": "stream",
     "text": [
      "   Survived\n",
      "0       549\n",
      "1       342\n",
      "\n",
      "\n",
      "Sex       female  male  All\n",
      "Survived                   \n",
      "0             81   468  549\n",
      "1            233   109  342\n",
      "All          314   577  891\n",
      "\n",
      "\n",
      "Pclass      1    2    3  All\n",
      "Survived                    \n",
      "0          80   97  372  549\n",
      "1         136   87  119  342\n",
      "All       216  184  491  891\n",
      "\n",
      "\n",
      "                       Age                                 \n",
      "Pclass                   1          2          3        All\n",
      "Survived Sex                                               \n",
      "0        female  25.666667  36.000000  23.818182  25.046875\n",
      "         male    44.581967  33.369048  27.255814  31.618056\n",
      "1        female  34.939024  28.080882  19.329787  28.847716\n",
      "         male    36.248000  16.022000  22.274211  27.276022\n",
      "All              38.233441  29.877630  25.140620  29.699118\n"
     ]
    }
   ],
   "source": [
    "print sur_count\n",
    "print \"\\n\"\n",
    "print pd.crosstab(t.Survived, t.Sex, margins=True)\n",
    "print \"\\n\"\n",
    "print pd.crosstab(t.Survived, t.Pclass, margins=True)\n",
    "print \"\\n\"\n",
    "print t.pivot_table(['Age'], index=['Survived','Sex'], columns='Pclass',margins=True)\n"
   ]
  },
  {
   "cell_type": "markdown",
   "metadata": {},
   "source": [
    "### How does Survived look like in absolute counts and percentages?"
   ]
  },
  {
   "cell_type": "code",
   "execution_count": 14,
   "metadata": {
    "collapsed": false
   },
   "outputs": [
    {
     "name": "stdout",
     "output_type": "stream",
     "text": [
      "   Survived\n",
      "0       549\n",
      "1       342 \n",
      "\n",
      "   Survived\n",
      "0      62.0\n",
      "1      38.0\n",
      "Axes(0.125,0.125;0.775x0.775)\n"
     ]
    },
    {
     "data": {
      "image/png": "[encoded data removed]",
      "text/plain": [
       "<matplotlib.figure.Figure at 0xc6069e8>"
      ]
     },
     "metadata": {},
     "output_type": "display_data"
    }
   ],
   "source": [
    "spct = np.round((sur_count / sur_count.sum() * 100))\n",
    "print sur_count, \"\\n\",\"\\n\", spct\n",
    "print spct.plot(kind='bar')"
   ]
  },
  {
   "cell_type": "markdown",
   "metadata": {},
   "source": [
    "### Now let's do a survived by gender box chart"
   ]
  },
  {
   "cell_type": "code",
   "execution_count": 15,
   "metadata": {
    "collapsed": false
   },
   "outputs": [
    {
     "name": "stdout",
     "output_type": "stream",
     "text": [
      "Axes(0.125,0.125;0.775x0.775)\n"
     ]
    },
    {
     "data": {
      "image/png": "[encoded data removed]",
      "text/plain": [
       "<matplotlib.figure.Figure at 0xced3128>"
      ]
     },
     "metadata": {},
     "output_type": "display_data"
    }
   ],
   "source": [
    "sg = pd.DataFrame(pd.crosstab(t.Survived, t.Sex)) \n",
    "sg2 = sg / float(sur_count.sum())\n",
    "print sg2.plot(kind='bar')"
   ]
  },
  {
   "cell_type": "markdown",
   "metadata": {},
   "source": [
    "### Let's make a faceted chart of Survived vs Gender"
   ]
  },
  {
   "cell_type": "code",
   "execution_count": 16,
   "metadata": {
    "collapsed": false
   },
   "outputs": [
    {
     "data": {
      "text/plain": [
       "<seaborn.axisgrid.FacetGrid at 0xd1942b0>"
      ]
     },
     "execution_count": 16,
     "metadata": {},
     "output_type": "execute_result"
    },
    {
     "data": {
      "image/png": "[encoded data removed]",
      "text/plain": [
       "<matplotlib.figure.Figure at 0xd1942e8>"
      ]
     },
     "metadata": {},
     "output_type": "display_data"
    }
   ],
   "source": [
    "g = sns.FacetGrid(t, row=\"Sex\", col=\"Survived\", margin_titles=True, row_order=[\"female\", \"male\"])\n",
    "age_bins = np.arange(0, 70, 5)\n",
    "g.map(plt.hist, 'Age', bins=age_bins, color=\"steelblue\")"
   ]
  },
  {
   "cell_type": "markdown",
   "metadata": {},
   "source": [
    "### Almost mirror image, but is the difference in age statistically significant? Let’s test by Anova. Need to test separately for survivors and dead by sex, but first let's calculate means by each segment."
   ]
  },
  {
   "cell_type": "code",
   "execution_count": 17,
   "metadata": {
    "collapsed": false
   },
   "outputs": [
    {
     "name": "stdout",
     "output_type": "stream",
     "text": [
      "Survived          0          1\n",
      "Sex                           \n",
      "female    25.046875  28.847716\n",
      "male      31.618056  27.276022\n"
     ]
    }
   ],
   "source": [
    "age_gr = t['Age'].groupby([t['Sex'], t['Survived']]).mean().unstack()\n",
    "print (age_gr)"
   ]
  },
  {
   "cell_type": "markdown",
   "metadata": {},
   "source": [
    "### Might be a significant difference among the dead but not the survived?"
   ]
  },
  {
   "cell_type": "code",
   "execution_count": 18,
   "metadata": {
    "collapsed": false
   },
   "outputs": [
    {
     "name": "stdout",
     "output_type": "stream",
     "text": [
      "First Anova test for the survivors.\n",
      "F_onewayResult(statistic=0.6974204245881046, pvalue=0.40434406202205564)\n",
      "No significant difference for survivors.\n",
      "\n",
      "\n",
      "F_onewayResult(statistic=11.985871610851571, pvalue=0.00059076603572944322)\n",
      "But significant for the dead - the men who died were older than the women who died.\n"
     ]
    }
   ],
   "source": [
    "s1 = t[t.Survived.isin([1])]\n",
    "s0 = t[t.Survived.isin([0])]\n",
    "#refuses to subset\n",
    "t2 = t.loc[t.Age.notnull()]\n",
    "age_gr2 = t2.Age.groupby([t2.Sex, t2.Survived]).groups\n",
    "age_gr2\n",
    "age_list = np.array(t['Age']) #need to load into np.array, and indexes look at the original t - dataframe!\n",
    "m1 = age_list[age_gr2['male',1]] \n",
    "m0 = age_list[age_gr2['male',0]]\n",
    "f1 = age_list[age_gr2['female',1]]\n",
    "f0 = age_list[age_gr2['female',0]]\n",
    "\n",
    "print (\"First Anova test for the survivors.\")\n",
    "print sp.stats.f_oneway(m1,f1)\n",
    "print (\"No significant difference for survivors.\")\n",
    "print  \"\\n\"\n",
    "print sp.stats.f_oneway(m0,f0)\n",
    "print (\"But significant for the dead - the men who died were older than the women who died.\")\n"
   ]
  },
  {
   "cell_type": "markdown",
   "metadata": {},
   "source": [
    "### Association analysis (Pearson's chi-sq test) Gender and Class vs survived - is the different significant?\n"
   ]
  },
  {
   "cell_type": "code",
   "execution_count": 19,
   "metadata": {
    "collapsed": false
   },
   "outputs": [
    {
     "name": "stdout",
     "output_type": "stream",
     "text": [
      "Create a frequency table first.\n",
      "Survived    0    1  All\n",
      "Sex                    \n",
      "female     81  233  314\n",
      "male      468  109  577\n",
      "All       549  342  891\n",
      "\n",
      "\n",
      "Here are the expected values.\n",
      "[[ 193.47474747  120.52525253  314.        ]\n",
      " [ 355.52525253  221.47474747  577.        ]\n",
      " [ 549.          342.          891.        ]]\n",
      "\n",
      "\n",
      "Here is the pvalue.\n",
      "1.00367328214e-55\n",
      "Yes, definitely significant difference in survival between the two sexes.\n"
     ]
    }
   ],
   "source": [
    "print (\"Create a frequency table first.\")\n",
    "freq01 = pd.crosstab(t.Sex, t.Survived, margins=True)\n",
    "print freq01\n",
    "freq01t = sp.stats.chi2_contingency(freq01)\n",
    "print \"\\n\"\n",
    "print (\"Here are the expected values.\")\n",
    "print freq01t[3]\n",
    "print \"\\n\"\n",
    "print (\"Here is the pvalue.\")\n",
    "print freq01t[1]\n",
    "print (\"Yes, definitely significant difference in survival between the two sexes.\")"
   ]
  },
  {
   "cell_type": "markdown",
   "metadata": {},
   "source": [
    "### Now also look at the minors only"
   ]
  },
  {
   "cell_type": "code",
   "execution_count": 20,
   "metadata": {
    "collapsed": false
   },
   "outputs": [
    {
     "name": "stdout",
     "output_type": "stream",
     "text": [
      "Survived   0   1  All\n",
      "Sex                  \n",
      "female    17  38   55\n",
      "male      35  23   58\n",
      "All       52  61  113\n",
      "\n",
      "\n",
      "Here are the expected values.\n",
      "[[  25.30973451   29.69026549   55.        ]\n",
      " [  26.69026549   31.30973451   58.        ]\n",
      " [  52.           61.          113.        ]]\n",
      "\n",
      "\n",
      "Here is the pvalue.\n",
      "0.0430927166106\n",
      "Yes, also significant.\n",
      "\n",
      "\n",
      "Calculate Survived percentages by gender.\n",
      "Survival for women was at 69.0 percent.\n",
      "Survival for men was at 40.0 percent.\n"
     ]
    }
   ],
   "source": [
    "t3 = t.loc[t.Minor==True]\n",
    "freq02 = pd.crosstab(t3.Sex, t3.Survived, margins=True)\n",
    "print freq02\n",
    "print \"\\n\"\n",
    "print (\"Here are the expected values.\")\n",
    "freq02t = sp.stats.chi2_contingency(freq02)\n",
    "print freq02t[3]\n",
    "print \"\\n\"\n",
    "print (\"Here is the pvalue.\")\n",
    "print freq02t[1]\n",
    "print (\"Yes, also significant.\")\n",
    "print \"\\n\"\n",
    "print (\"Calculate Survived percentages by gender.\")\n",
    "fs = round((freq02.ix['female'][1]) / (freq02.ix['female']['All'] * 1.00) * 100)\n",
    "ms = round((freq02.ix['male'][1]) / (freq02.ix['male']['All'] * 1.00) * 100)\n",
    "print \"Survival for women was at\",fs,\"percent.\" \n",
    "print \"Survival for men was at\",ms,\"percent.\" "
   ]
  },
  {
   "cell_type": "markdown",
   "metadata": {},
   "source": [
    "### Yes, males were less likely to survive, and the pattern holds even for minors.Note that there is an almost the same number of male and female minors: 58 and 55. But while 69.1% of females survived, only 39.7% of males survived.\n",
    "### Let’s look at the distribution of Age for minors separately for males and females"
   ]
  },
  {
   "cell_type": "code",
   "execution_count": 21,
   "metadata": {
    "collapsed": false
   },
   "outputs": [
    {
     "data": {
      "text/plain": [
       "<seaborn.axisgrid.FacetGrid at 0xb6a80f0>"
      ]
     },
     "execution_count": 21,
     "metadata": {},
     "output_type": "execute_result"
    },
    {
     "data": {
      "image/png": "[encoded data removed]",
      "text/plain": [
       "<matplotlib.figure.Figure at 0xd407048>"
      ]
     },
     "metadata": {},
     "output_type": "display_data"
    }
   ],
   "source": [
    "g3 = sns.FacetGrid(t3, row=\"Sex\", col=\"Survived\", margin_titles=True, row_order=[\"female\", \"male\"])\n",
    "age_bins3 = np.arange(0, 18, 5)\n",
    "g3.map(plt.hist, 'Age', bins=age_bins3, color=\"steelblue\")"
   ]
  },
  {
   "cell_type": "markdown",
   "metadata": {},
   "source": [
    "### This chart really make it obvious - even among minors (look at 15 year olds), men were less likely to survive. It also suggests that even among minors, the older ones were less likely to survive. This calls for a regression to estimate the marginal effects on probability of survival.\n",
    "### How will the box chart looks like for minors?"
   ]
  },
  {
   "cell_type": "code",
   "execution_count": 22,
   "metadata": {
    "collapsed": false
   },
   "outputs": [
    {
     "name": "stdout",
     "output_type": "stream",
     "text": [
      "Axes(0.125,0.125;0.775x0.775)\n"
     ]
    },
    {
     "data": {
      "image/png": "[encoded data removed]",
      "text/plain": [
       "<matplotlib.figure.Figure at 0xc4553c8>"
      ]
     },
     "metadata": {},
     "output_type": "display_data"
    }
   ],
   "source": [
    "sgm = pd.DataFrame(pd.crosstab(t3.Survived, t3.Sex)) \n",
    "sgm2 = sg / float(sur_count.sum())\n",
    "print sgm2.plot(kind='bar')"
   ]
  },
  {
   "cell_type": "markdown",
   "metadata": {},
   "source": [
    "### Looks similiar to the overall chart above. Shows that Minor or not, males were still less likely to survive.\n"
   ]
  },
  {
   "cell_type": "markdown",
   "metadata": {},
   "source": [
    "# Multivariate Plots And Analysis\n",
    "### Distribution of survival by age faceted by gender"
   ]
  },
  {
   "cell_type": "code",
   "execution_count": 23,
   "metadata": {
    "collapsed": false
   },
   "outputs": [
    {
     "name": "stdout",
     "output_type": "stream",
     "text": [
      "Overall linear probability plot.\n"
     ]
    },
    {
     "data": {
      "image/png": "[encoded data removed]",
      "text/plain": [
       "<matplotlib.figure.Figure at 0xd8e0630>"
      ]
     },
     "metadata": {},
     "output_type": "display_data"
    }
   ],
   "source": [
    "print (\"Overall linear probability plot.\")\n",
    "sns.regplot(x='Age', y='Survived', data=t, y_jitter=0.1, lowess=True)\n",
    "sns.despine()"
   ]
  },
  {
   "cell_type": "code",
   "execution_count": 24,
   "metadata": {
    "collapsed": false
   },
   "outputs": [
    {
     "name": "stdout",
     "output_type": "stream",
     "text": [
      "For females\n"
     ]
    },
    {
     "data": {
      "image/png": "[encoded data removed]",
      "text/plain": [
       "<matplotlib.figure.Figure at 0xd8bf9b0>"
      ]
     },
     "metadata": {},
     "output_type": "display_data"
    }
   ],
   "source": [
    "tm = t.loc[t.Sex=='male']\n",
    "tf = t.loc[t.Sex=='female']\n",
    "print (\"For females\")\n",
    "sns.regplot(x='Age', y='Survived', data=tf, y_jitter=0.1, lowess=True)\n",
    "sns.despine()"
   ]
  },
  {
   "cell_type": "code",
   "execution_count": 25,
   "metadata": {
    "collapsed": false
   },
   "outputs": [
    {
     "name": "stdout",
     "output_type": "stream",
     "text": [
      "For males\n"
     ]
    },
    {
     "data": {
      "image/png": "[encoded data removed]",
      "text/plain": [
       "<matplotlib.figure.Figure at 0xcf8f240>"
      ]
     },
     "metadata": {},
     "output_type": "display_data"
    }
   ],
   "source": [
    "print (\"For males\")\n",
    "sns.regplot(x='Age', y='Survived', data=tm, y_jitter=0.1, lowess=True)\n",
    "sns.despine()"
   ]
  },
  {
   "cell_type": "markdown",
   "metadata": {},
   "source": [
    "### Pretty stark difference by sex\n",
    "### Let’s build a Linear probability model first\n",
    "### Disclaimer: I will not create training/validation set and score as usual\n",
    "### Linear probability model - Age and Pclass"
   ]
  },
  {
   "cell_type": "code",
   "execution_count": 26,
   "metadata": {
    "collapsed": false
   },
   "outputs": [
    {
     "name": "stdout",
     "output_type": "stream",
     "text": [
      "\n",
      "-------------------------Summary of Regression Analysis-------------------------\n",
      "\n",
      "Formula: Y ~ <Age> + <Pclass> + <intercept>\n",
      "\n",
      "Number of Observations:         714\n",
      "Number of Degrees of Freedom:   3\n",
      "\n",
      "R-squared:         0.1804\n",
      "Adj R-squared:     0.1781\n",
      "\n",
      "Rmse:              0.4455\n",
      "\n",
      "F-stat (2, 711):    78.2577, p-value:     0.0000\n",
      "\n",
      "Degrees of Freedom: model 2, resid 711\n",
      "\n",
      "-----------------------Summary of Estimated Coefficients------------------------\n",
      "      Variable       Coef    Std Err     t-stat    p-value    CI 2.5%   CI 97.5%\n",
      "--------------------------------------------------------------------------------\n",
      "           Age    -0.0082     0.0012      -6.66     0.0000    -0.0106    -0.0058\n",
      "        Pclass    -0.2635     0.0214     -12.30     0.0000    -0.3055    -0.2215\n",
      "     intercept     1.2399     0.0722      17.16     0.0000     1.0983     1.3815\n",
      "---------------------------------End of Summary---------------------------------\n",
      "\n"
     ]
    }
   ],
   "source": [
    "import warnings\n",
    "warnings.simplefilter(action = \"ignore\", category = FutureWarning)\n",
    "\n",
    "res = pd.stats.api.ols(y=t2.Survived, x=t2[['Age','Pclass']])\n",
    "print res"
   ]
  },
  {
   "cell_type": "markdown",
   "metadata": {},
   "source": [
    "### Linear probability model - Age and Pclass and Sex"
   ]
  },
  {
   "cell_type": "code",
   "execution_count": 27,
   "metadata": {
    "collapsed": false
   },
   "outputs": [
    {
     "name": "stdout",
     "output_type": "stream",
     "text": [
      "\n",
      "-------------------------Summary of Regression Analysis-------------------------\n",
      "\n",
      "Formula: Y ~ <Age> + <Pclass> + <female> + <intercept>\n",
      "\n",
      "Number of Observations:         714\n",
      "Number of Degrees of Freedom:   4\n",
      "\n",
      "R-squared:         0.3902\n",
      "Adj R-squared:     0.3876\n",
      "\n",
      "Rmse:              0.3846\n",
      "\n",
      "F-stat (3, 710):   151.4166, p-value:     0.0000\n",
      "\n",
      "Degrees of Freedom: model 3, resid 710\n",
      "\n",
      "-----------------------Summary of Estimated Coefficients------------------------\n",
      "      Variable       Coef    Std Err     t-stat    p-value    CI 2.5%   CI 97.5%\n",
      "--------------------------------------------------------------------------------\n",
      "           Age    -0.0055     0.0011      -5.04     0.0000    -0.0076    -0.0033\n",
      "        Pclass    -0.2029     0.0189     -10.74     0.0000    -0.2399    -0.1659\n",
      "        female     0.4793     0.0307      15.63     0.0000     0.4192     0.5394\n",
      "     intercept     0.8468     0.0672      12.59     0.0000     0.7150     0.9786\n",
      "---------------------------------End of Summary---------------------------------\n",
      "\n"
     ]
    }
   ],
   "source": [
    "res2 = pd.stats.api.ols(y=t2.Survived, x=t2[['Age','Pclass','female']])\n",
    "print res2"
   ]
  },
  {
   "cell_type": "markdown",
   "metadata": {},
   "source": [
    "### Age and pclass stay negative and female has a positive sign - the signs are useful to us for significant parameters. \n",
    "\n",
    "### Let’s build a logistic regression to verify and get the odds as well.\n",
    "\n"
   ]
  },
  {
   "cell_type": "code",
   "execution_count": 28,
   "metadata": {
    "collapsed": false
   },
   "outputs": [
    {
     "name": "stdout",
     "output_type": "stream",
     "text": [
      "Check trained model coefficients - Age, Pclass, Female.\n",
      "[[-0.03069504 -1.14539506  2.41843788]]\n",
      "The same signs as the linear model. That's good.\n"
     ]
    }
   ],
   "source": [
    "print (\"Check trained model coefficients - Age, Pclass, Female.\")\n",
    "logreg = linear_model.LogisticRegression()\n",
    "Yvar = t2[['Survived']]\n",
    "Xvar2 = t2[['Age','Pclass','female']]\n",
    "log02 = logreg.fit(Xvar2, Yvar.values.ravel())\n",
    "print(log02.coef_)\n",
    "print (\"The same signs as the linear model. That's good.\")\n",
    "\n"
   ]
  },
  {
   "cell_type": "code",
   "execution_count": 29,
   "metadata": {
    "collapsed": false
   },
   "outputs": [
    {
     "name": "stdout",
     "output_type": "stream",
     "text": [
      "Need to get exponentiate the parameters to get the odds ratios.\n",
      "[[  0.96977127   0.31809822  11.22830565]]\n"
     ]
    }
   ],
   "source": [
    "print (\"Need to get exponentiate the parameters to get the odds ratios.\")\n",
    "coefs=log02.coef_\n",
    "#not vectorized fn?\n",
    "print np.exp(coefs)"
   ]
  },
  {
   "cell_type": "markdown",
   "metadata": {},
   "source": [
    "### Interpretation: an extra year of age decreases the odds of surviving a factor of 0.96. Going from class 1 to 2 or 2 to 3 decreases the odds by a factor of 0.31. Finally, going from female to male decreases the odds by a factor of 0.08 or 11.2 times. That is females were 11 times more likely to survive that males. Also, as we have seen above, this holds true even among minors (< 18 years old) - females were more likely to survive."
   ]
  },
  {
   "cell_type": "markdown",
   "metadata": {},
   "source": [
    "# Final plots and summary\n",
    "### Plot One: Bar charts of Survived and Gender"
   ]
  },
  {
   "cell_type": "code",
   "execution_count": 30,
   "metadata": {
    "collapsed": false
   },
   "outputs": [
    {
     "data": {
      "text/plain": [
       "<matplotlib.text.Text at 0xe9a5e80>"
      ]
     },
     "execution_count": 30,
     "metadata": {},
     "output_type": "execute_result"
    },
    {
     "data": {
      "image/png": "[encoded data removed]",
      "text/plain": [
       "<matplotlib.figure.Figure at 0xe933b70>"
      ]
     },
     "metadata": {},
     "output_type": "display_data"
    }
   ],
   "source": [
    "sur_count.plot(kind='bar',title='Survival Distribution',legend=True,color='grey')\n",
    "#use the plt fn from matplotlib for additional customization\n",
    "plt.ylabel('Frequency (Count)')\n",
    "plt.xlabel('Survived (0=no, 1=yes')"
   ]
  },
  {
   "cell_type": "code",
   "execution_count": 31,
   "metadata": {
    "collapsed": false
   },
   "outputs": [
    {
     "data": {
      "text/plain": [
       "<matplotlib.text.Text at 0xe3754a8>"
      ]
     },
     "execution_count": 31,
     "metadata": {},
     "output_type": "execute_result"
    },
    {
     "data": {
      "image/png": "[encoded data removed]",
      "text/plain": [
       "<matplotlib.figure.Figure at 0xea4df28>"
      ]
     },
     "metadata": {},
     "output_type": "display_data"
    }
   ],
   "source": [
    "sex_count.plot(kind='bar',title='Gender distribution',legend=True,color='pink')\n",
    "#use the plt fn from matplotlib for additional customization\n",
    "plt.ylabel('Frequency (Count)')"
   ]
  },
  {
   "cell_type": "code",
   "execution_count": 32,
   "metadata": {
    "collapsed": false
   },
   "outputs": [
    {
     "name": "stdout",
     "output_type": "stream",
     "text": [
      "Here are the actual percentages for the charts above.\n",
      "   Survived\n",
      "0       549\n",
      "1       342 \n",
      "\n",
      "   Survived\n",
      "0      62.0\n",
      "1      38.0\n",
      "\n",
      "\n",
      "        Sex\n",
      "male    577\n",
      "female  314 \n",
      "\n",
      "         Sex\n",
      "male    65.0\n",
      "female  35.0\n"
     ]
    }
   ],
   "source": [
    "print (\"Here are the actual percentages for the charts above.\")\n",
    "print sur_count, \"\\n\",\"\\n\", np.round(sur_count / sur_count.sum() * 100)\n",
    "print \"\\n\"\n",
    "print sex_count, \"\\n\",\"\\n\", np.round(sex_count / sex_count.sum() * 100)"
   ]
  },
  {
   "cell_type": "markdown",
   "metadata": {},
   "source": [
    "### Plot One Discussion\n",
    "### Interesting, the distributions of Survived and Sex are almost identical. That is 65% of passengers were male and 62% of passengers did not survive. Is there a link between being male and not surviving?"
   ]
  },
  {
   "cell_type": "markdown",
   "metadata": {},
   "source": [
    "### Plot Two: Distribution of Age by Survived separately by Sex"
   ]
  },
  {
   "cell_type": "code",
   "execution_count": 33,
   "metadata": {
    "collapsed": false
   },
   "outputs": [
    {
     "data": {
      "image/png": "[encoded data removed]",
      "text/plain": [
       "<matplotlib.figure.Figure at 0xea4d0f0>"
      ]
     },
     "metadata": {},
     "output_type": "display_data"
    }
   ],
   "source": [
    "g = sns.FacetGrid(t, row=\"Sex\", col=\"Survived\", margin_titles=True, row_order=[\"female\", \"male\"])\n",
    "age_bins = np.arange(0, 70, 5)\n",
    "g.map(plt.hist, 'Age', bins=age_bins, color=\"steelblue\")\n",
    "plt.ylabel('Frequency (Count)')\n",
    "plt.xlabel('Age (Years)')\n",
    "plt.title('Distribution of Age by Gender and Survival')\n",
    "plt.show()\n",
    "#Hmm - title is only for the last chart? oh, well"
   ]
  },
  {
   "cell_type": "markdown",
   "metadata": {},
   "source": [
    "### Plot Two Discussion\n",
    "### This plot looks like a mirror image: most of men did not survive, while most women did.\n",
    "\n",
    "### Plot Three: Linear probability model by Sex"
   ]
  },
  {
   "cell_type": "code",
   "execution_count": 34,
   "metadata": {
    "collapsed": false
   },
   "outputs": [
    {
     "data": {
      "image/png": "[encoded data removed]",
      "text/plain": [
       "<matplotlib.figure.Figure at 0xeb1a550>"
      ]
     },
     "metadata": {},
     "output_type": "display_data"
    }
   ],
   "source": [
    "g = sns.FacetGrid(t, col=\"Sex\", margin_titles=True)\n",
    "g.map(sns.regplot, \"Age\", \"Survived\", lowess=True, y_jitter=.1);\n"
   ]
  },
  {
   "cell_type": "markdown",
   "metadata": {},
   "source": [
    "### Plot Three Discussion\n",
    "### The blue line can be interpreted as the predicted probability of surviving by age. For men this probability falls rapidly at 15 years old and stays pretty low. For women of all ages the probability of surviving is much higher."
   ]
  },
  {
   "cell_type": "markdown",
   "metadata": {},
   "source": [
    "# Issues, Reflections, Conclusions (Speculations)"
   ]
  },
  {
   "cell_type": "markdown",
   "metadata": {},
   "source": [
    "\n",
    "Issues: What we have is an incomplete data set - obviously there were more than 891 passengers on Titanic. We can make no assumptions about whether we got a random sample or a biased one. Therefore we cannot really make any general conclusions but we can speculate about the results. \n",
    "\n",
    "There is missing data for Age. I did no imputations because I cannot make any assumptions whether the values are MCAR (missing completely at random). Those observations were just dropped by the R’s procedures when Age variable was invovled.\n",
    "\n",
    "My exploratory data analysis suggested a link between survival and gender, so I pursued this and conducted statistical tests.\n",
    "Chi-squared test of the frequency of survival based on gender (Sex) returned a very low p-value meaning this pattern could not have occurred by chance.\n",
    "\n",
    "Both the linear and logistic probability models returned negative estimates for being male on survival.\n",
    "The odds ratio of survival of being female comparing to being a male was 11.2.\n",
    "This means that females were 11 times more likely to survive that males.\n",
    "\n",
    "This pattern holds even for minors (< 18 years old) - females were still more likely to survive.\n",
    "This seems to suggest that in the good old saying “women and children first” boys of 15 years or older do not count as “children.”\n",
    "\n",
    "Next steps? In the future I could review other tragic events and disasters and analyze factors that influence the probability of survival. \n"
   ]
  },
  {
   "cell_type": "markdown",
   "metadata": {},
   "source": [
    "# Appendix: Data Dictionary"
   ]
  },
  {
   "cell_type": "code",
   "execution_count": 35,
   "metadata": {
    "collapsed": false
   },
   "outputs": [
    {
     "data": {
      "text/plain": [
       "''"
      ]
     },
     "execution_count": 35,
     "metadata": {},
     "output_type": "execute_result"
    }
   ],
   "source": [
    "'''\n",
    "Data source: https://www.kaggle.com/c/titanic/data\n",
    "\n",
    "VARIABLE DESCRIPTIONS:\n",
    "survival Survival\n",
    "(0 = No; 1 = Yes)\n",
    "pclass Passenger Class\n",
    "(1 = 1st; 2 = 2nd; 3 = 3rd)\n",
    "name Name\n",
    "sex Sex\n",
    "age Age\n",
    "sibsp Number of Siblings/Spouses Aboard\n",
    "parch Number of Parents/Children Aboard\n",
    "ticket Ticket Number\n",
    "fare Passenger Fare\n",
    "cabin Cabin\n",
    "embarked Port of Embarkation\n",
    "(C = Cherbourg; Q = Queenstown; S = Southampton)\n",
    "'''\n",
    ";"
   ]
  },
  {
   "cell_type": "markdown",
   "metadata": {},
   "source": [
    "# The End."
   ]
  },
  {
   "cell_type": "code",
   "execution_count": null,
   "metadata": {
    "collapsed": true
   },
   "outputs": [],
   "source": []
  }
 ],
 "metadata": {
  "anaconda-cloud": {},
  "kernelspec": {
   "display_name": "Python [default]",
   "language": "python",
   "name": "python2"
  },
  "language_info": {
   "codemirror_mode": {
    "name": "ipython",
    "version": 2
   },
   "file_extension": ".py",
   "mimetype": "text/x-python",
   "name": "python",
   "nbconvert_exporter": "python",
   "pygments_lexer": "ipython2",
   "version": "2.7.12"
  }
 },
 "nbformat": 4,
 "nbformat_minor": 0
}
